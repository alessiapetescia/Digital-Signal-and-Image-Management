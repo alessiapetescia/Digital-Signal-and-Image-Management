{
 "cells": [
  {
   "cell_type": "markdown",
   "metadata": {},
   "source": [
    "<div align=\"right\"><h8><i>Cristina Cristalli - 838022<br>\n",
    "Francesca Franzese - 847780<br>\n",
    "    Alessia Petescia - 839141</i><br><br>\n",
    "    <b>Progetto Digital Signal and Image Management - Punto 1<br>\n",
    "        CdL Data Science 2020</b></h8></div>"
   ]
  },
  {
   "cell_type": "markdown",
   "metadata": {},
   "source": [
    "## 1. Speaker recognition"
   ]
  },
  {
   "cell_type": "markdown",
   "metadata": {},
   "source": [
    "<b>Task: </b> Speaker recognition.\n",
    "<br><br>\n",
    "Audio files were recorded  <b><i>with no bound on the senteces told. Each file has a duration of 5s</i></b>.\n",
    "<p>The notebook is organized as follows:</p>\n",
    "<ol>\n",
    "<li><i>Loading of audio files and feature extraction:</i> the following features were implemented: \n",
    "<ul style=\"list-style-type:circle\">\n",
    "<li>Zero Crossing Rate</li>\n",
    "<li>Eneregy</li> \n",
    "<li>Duration</li> \n",
    "<li>Average</li>\n",
    "<li>Average with absolute values</li>\n",
    "<li>Standard Deviation</li>\n",
    "</ul>\n",
    "<br>\n",
    "All the experiments were reapeated with the addiction of the <b> Mel-frequency cepstrum coefficients</b>, in order to study its effect on perfomances.\n",
    "</li> \n",
    "<br>\n",
    "<li><i>Models training: </i> Models hyperparameters were choosen by using the Grid Search and the Random search. The implemented models are:\n",
    "<ul style=\"list-style-type:square\">\n",
    "<li>Random Forest</li>\n",
    "<li>Support vector Machine</li>\n",
    "<li>Neural Network</li>\n",
    "</ul> </li>\n"
   ]
  },
  {
   "cell_type": "code",
   "execution_count": 1,
   "metadata": {},
   "outputs": [
    {
     "name": "stderr",
     "output_type": "stream",
     "text": [
      "Using TensorFlow backend.\n"
     ]
    }
   ],
   "source": [
    "import os\n",
    "import librosa\n",
    "import numpy as np\n",
    "from time import time\n",
    "from scipy.io import wavfile as wav\n",
    "import pandas as pd\n",
    "from math import sqrt\n",
    "import matplotlib.pyplot as plt\n",
    "import IPython.display as ipd\n",
    "import joblib\n",
    "\n",
    "# Classification instruments\n",
    "from sklearn.svm import SVC\n",
    "from sklearn.model_selection import train_test_split, GridSearchCV, RandomizedSearchCV\n",
    "from sklearn.metrics import classification_report, confusion_matrix, accuracy_score, mean_squared_error\n",
    "from sklearn.ensemble import RandomForestClassifier \n",
    "from sklearn.utils import shuffle\n",
    "\n",
    "#keras\n",
    "from keras.models import Sequential\n",
    "from keras.callbacks import EarlyStopping\n",
    "from keras.layers import Dense, Dropout, Activation, Flatten\n",
    "from keras.optimizers import RMSprop\n",
    "from keras.layers.noise import GaussianNoise\n",
    "from keras.layers.normalization import BatchNormalization\n",
    "from keras.layers.advanced_activations import PReLU\n",
    "from keras.utils import np_utils\n",
    "from keras.callbacks import EarlyStopping, ModelCheckpoint\n",
    "from keras.wrappers.scikit_learn import KerasClassifier "
   ]
  },
  {
   "cell_type": "code",
   "execution_count": 2,
   "metadata": {},
   "outputs": [],
   "source": [
    "import warnings\n",
    "warnings.filterwarnings('ignore')"
   ]
  },
  {
   "cell_type": "markdown",
   "metadata": {},
   "source": [
    "<h2>Without MFCC</h2>"
   ]
  },
  {
   "cell_type": "markdown",
   "metadata": {},
   "source": [
    "<h3>Audio loading and feature extraction</h3>"
   ]
  },
  {
   "cell_type": "code",
   "execution_count": 77,
   "metadata": {},
   "outputs": [],
   "source": [
    "def identity(input):\n",
    "    return input\n",
    "\n",
    "# Data loader\n",
    "def load_data(feature_extractor=identity, normalize=True):\n",
    "\n",
    "    labels = []\n",
    "    features = []\n",
    "\n",
    "    for f in sorted(os.listdir('./AUDIO')):\n",
    "        #print(f)\n",
    "        if f.endswith('.wav'):\n",
    "            \n",
    "            # Carica file ed estraine le features\n",
    "            _, signal = wav.read('./AUDIO/' + f)\n",
    "            cur_features = feature_extractor(signal)\n",
    "            features.append(cur_features)\n",
    "\n",
    "            # Categorie\n",
    "            label = f.split('_')[0]\n",
    "            labels.append(int(label))\n",
    "\n",
    "            \n",
    "    features, labels = shuffle(features, labels)\n",
    "    X_train, X_test, y_train, y_test = train_test_split(features, labels, test_size=0.3)\n",
    "    labels=np.array(labels)\n",
    "\n",
    "    if normalize:\n",
    "        eps = 0.001\n",
    "        X_train = np.array(X_train)\n",
    "        X_train_mean = X_train.mean(axis=0)\n",
    "        X_train_std = X_train.std(axis=0)\n",
    "        X_train = (X_train - X_train_mean + eps)/(X_train_std + eps)\n",
    "        X_train = [row for row in X_train]\n",
    "\n",
    "        X_test = [row for row in (np.array(X_test) - X_train_mean + eps)/(X_train_std + eps)]\n",
    "        \n",
    "        X_train = np.array(X_train)\n",
    "        X_test= np.array(X_test)\n",
    "\n",
    "    return X_train, X_test, y_train, y_test, X_train_mean, X_train_std"
   ]
  },
  {
   "cell_type": "code",
   "execution_count": 78,
   "metadata": {},
   "outputs": [],
   "source": [
    "# Features functions \n",
    "\n",
    "def sdev(input):\n",
    "    return np.std(input, keepdims=True)\n",
    "\n",
    "def avg(input):\n",
    "    return np.mean(input, keepdims=True)\n",
    "\n",
    "def aavg(input):\n",
    "    return np.mean(np.abs(input), keepdims=True)\n",
    "\n",
    "def duration(input):\n",
    "    return input.shape\n",
    "\n",
    "def energy(input):\n",
    "    return np.sum((input*1.0)**2, keepdims=True)\n",
    "\n",
    "def zcr(input):\n",
    "    return np.array([np.nonzero(np.diff(input>0))[0].size])"
   ]
  },
  {
   "cell_type": "code",
   "execution_count": 79,
   "metadata": {},
   "outputs": [],
   "source": [
    "def combo(input):\n",
    "    return np.concatenate((aavg(input),sdev(input),duration(input),energy(input), zcr(input))) "
   ]
  },
  {
   "cell_type": "code",
   "execution_count": 80,
   "metadata": {},
   "outputs": [],
   "source": [
    "# data loading\n",
    "X_train, X_test, y_train, y_test, X_train_mean, X_train_std = load_data(feature_extractor=combo)"
   ]
  },
  {
   "cell_type": "code",
   "execution_count": 81,
   "metadata": {},
   "outputs": [
    {
     "data": {
      "text/plain": [
       "210"
      ]
     },
     "execution_count": 81,
     "metadata": {},
     "output_type": "execute_result"
    }
   ],
   "source": [
    "len(X_train)"
   ]
  },
  {
   "cell_type": "markdown",
   "metadata": {},
   "source": [
    "<h3>Classificazione</h3>"
   ]
  },
  {
   "cell_type": "markdown",
   "metadata": {},
   "source": [
    "<h3>Random forest</h3>"
   ]
  },
  {
   "cell_type": "code",
   "execution_count": 82,
   "metadata": {},
   "outputs": [],
   "source": [
    "# Hyperparameters to test with cross validation\n",
    "param_grid_rf = {'n_estimators': [1, 4, 8, 12, 16, 20],\n",
    "                 'criterion': ['entropy', 'gini'], }\n",
    "\n",
    "clf_rf = GridSearchCV(RandomForestClassifier(),param_grid_rf)\n",
    "\n",
    "clf_rf = clf_rf.fit(X_train, y_train)"
   ]
  },
  {
   "cell_type": "code",
   "execution_count": 83,
   "metadata": {},
   "outputs": [
    {
     "name": "stdout",
     "output_type": "stream",
     "text": [
      "Migliore combinazione di parametri:\n",
      " n_estimators: 8\n",
      " criterion: gini\n"
     ]
    }
   ],
   "source": [
    "# Results for best hyperparameters\n",
    "print(\"Best parameters:\")\n",
    "print(\" n_estimators: \"+str(clf_rf.best_estimator_.n_estimators))\n",
    "print(\" criterion: \"+str(clf_rf.best_estimator_.criterion))"
   ]
  },
  {
   "cell_type": "code",
   "execution_count": 84,
   "metadata": {},
   "outputs": [],
   "source": [
    "clf_rf_pred = clf_rf.predict(X_test) "
   ]
  },
  {
   "cell_type": "code",
   "execution_count": 85,
   "metadata": {},
   "outputs": [
    {
     "name": "stdout",
     "output_type": "stream",
     "text": [
      "              precision    recall  f1-score   support\n",
      "\n",
      "           0       0.77      0.72      0.74        32\n",
      "           1       0.75      0.79      0.77        34\n",
      "           2       1.00      1.00      1.00        24\n",
      "\n",
      "   micro avg       0.82      0.82      0.82        90\n",
      "   macro avg       0.84      0.84      0.84        90\n",
      "weighted avg       0.82      0.82      0.82        90\n",
      "\n"
     ]
    }
   ],
   "source": [
    "print(classification_report(y_test, clf_rf_pred))"
   ]
  },
  {
   "cell_type": "code",
   "execution_count": 86,
   "metadata": {},
   "outputs": [
    {
     "name": "stdout",
     "output_type": "stream",
     "text": [
      "[[23  9  0]\n",
      " [ 7 27  0]\n",
      " [ 0  0 24]]\n"
     ]
    },
    {
     "data": {
      "text/plain": [
       "<matplotlib.image.AxesImage at 0x15968197a90>"
      ]
     },
     "execution_count": 86,
     "metadata": {},
     "output_type": "execute_result"
    },
    {
     "data": {
      "image/png": "[encoded data removed]",
      "text/plain": [
       "<Figure size 432x288 with 1 Axes>"
      ]
     },
     "metadata": {
      "needs_background": "light"
     },
     "output_type": "display_data"
    }
   ],
   "source": [
    "cm = confusion_matrix(y_test, clf_rf_pred)   \n",
    "print(cm)\n",
    "plt.imshow(cm, cmap=plt.cm.Blues)"
   ]
  },
  {
   "cell_type": "code",
   "execution_count": 87,
   "metadata": {},
   "outputs": [
    {
     "name": "stdout",
     "output_type": "stream",
     "text": [
      "0.8222222222222222\n"
     ]
    }
   ],
   "source": [
    "print(accuracy_score(y_test, clf_rf_pred))"
   ]
  },
  {
   "cell_type": "markdown",
   "metadata": {},
   "source": [
    "<h3>Support Vector Machine</h3>"
   ]
  },
  {
   "cell_type": "code",
   "execution_count": 88,
   "metadata": {},
   "outputs": [],
   "source": [
    "# Hyperparameters to try\n",
    "param_grid_svc = {'C': [10, 50, 100, 150, 1000],\n",
    "                  'gamma': [0.005, 0.001, 0.01, 0.5],\n",
    "                  'kernel': ['linear', 'rbf', 'poly']}\n",
    "\n",
    "clf_svc = GridSearchCV(SVC(class_weight='balanced'), param_grid_svc, cv=3)\n",
    "\n",
    "clf_svc = clf_svc.fit(X_train, y_train)"
   ]
  },
  {
   "cell_type": "code",
   "execution_count": 89,
   "metadata": {},
   "outputs": [
    {
     "name": "stdout",
     "output_type": "stream",
     "text": [
      "Best parameters:\n",
      " C: 100\n",
      " gamma: 0.005\n",
      " kernel: rbf\n"
     ]
    }
   ],
   "source": [
    "# Optimization results\n",
    "print(\"Best parameters:\")\n",
    "print(\" C: \"+str(clf_svc.best_estimator_.C))\n",
    "print(\" gamma: \"+str(clf_svc.best_estimator_.gamma))\n",
    "print(\" kernel: \"+str(clf_svc.best_estimator_.kernel))"
   ]
  },
  {
   "cell_type": "code",
   "execution_count": 90,
   "metadata": {},
   "outputs": [],
   "source": [
    "clf_svc_pred = clf_svc.predict(X_test)"
   ]
  },
  {
   "cell_type": "code",
   "execution_count": 91,
   "metadata": {},
   "outputs": [
    {
     "name": "stdout",
     "output_type": "stream",
     "text": [
      "              precision    recall  f1-score   support\n",
      "\n",
      "           0       0.77      0.72      0.74        32\n",
      "           1       0.75      0.79      0.77        34\n",
      "           2       1.00      1.00      1.00        24\n",
      "\n",
      "   micro avg       0.82      0.82      0.82        90\n",
      "   macro avg       0.84      0.84      0.84        90\n",
      "weighted avg       0.82      0.82      0.82        90\n",
      "\n"
     ]
    }
   ],
   "source": [
    "print(classification_report(y_test, clf_svc_pred))"
   ]
  },
  {
   "cell_type": "code",
   "execution_count": 92,
   "metadata": {},
   "outputs": [
    {
     "name": "stdout",
     "output_type": "stream",
     "text": [
      "[[23  9  0]\n",
      " [ 7 27  0]\n",
      " [ 0  0 24]]\n"
     ]
    },
    {
     "data": {
      "text/plain": [
       "<matplotlib.image.AxesImage at 0x1595ec98a58>"
      ]
     },
     "execution_count": 92,
     "metadata": {},
     "output_type": "execute_result"
    },
    {
     "data": {
      "image/png": "[encoded data removed]",
      "text/plain": [
       "<Figure size 432x288 with 1 Axes>"
      ]
     },
     "metadata": {
      "needs_background": "light"
     },
     "output_type": "display_data"
    }
   ],
   "source": [
    "cm = confusion_matrix(y_test, clf_svc_pred)\n",
    "print(cm)\n",
    "plt.imshow(cm, cmap=plt.cm.Blues)"
   ]
  },
  {
   "cell_type": "code",
   "execution_count": 93,
   "metadata": {},
   "outputs": [
    {
     "name": "stdout",
     "output_type": "stream",
     "text": [
      "0.8222222222222222\n"
     ]
    }
   ],
   "source": [
    "print(accuracy_score(y_test, clf_svc_pred))"
   ]
  },
  {
   "cell_type": "markdown",
   "metadata": {},
   "source": [
    "<h3>Neural network</h3>"
   ]
  },
  {
   "cell_type": "code",
   "execution_count": 94,
   "metadata": {},
   "outputs": [
    {
     "data": {
      "text/plain": [
       "(210, 5)"
      ]
     },
     "execution_count": 94,
     "metadata": {},
     "output_type": "execute_result"
    }
   ],
   "source": [
    "np.shape(X_train)"
   ]
  },
  {
   "cell_type": "code",
   "execution_count": 95,
   "metadata": {},
   "outputs": [],
   "source": [
    "def NN_model(optimizer='adam', activation_layer_1 ='softmax',activation_layer_2 ='softmax', activation_last_layer = 'softmax',  neurons = 1, dropout_rate_1 = 0.0, dropout_rate_2 = 0.0):\n",
    "\n",
    "    modello= Sequential()\n",
    "    modello.add(Dense(neurons, activation='relu', input_shape=(5,)))\n",
    "    modello.add(Dropout(dropout_rate_1))\n",
    "    modello.add(Dense(neurons, activation=activation_layer_1))\n",
    "    modello.add(Dropout(dropout_rate_2))\n",
    "    modello.add(Dense(neurons, activation=activation_layer_2))\n",
    "    modello.add(Dense(3, activation = activation_last_layer))\n",
    "    modello.compile(optimizer=optimizer, loss='sparse_categorical_crossentropy',metrics=['accuracy'])\n",
    "    \n",
    "    return(modello)"
   ]
  },
  {
   "cell_type": "code",
   "execution_count": 96,
   "metadata": {},
   "outputs": [],
   "source": [
    "modello_per_random_search = KerasClassifier(build_fn=NN_model, verbose = 0)\n",
    "batch_size = [10,25,50]\n",
    "epochs = [3,5,10]\n",
    "optimizer = ['Adadelta', 'Adam']\n",
    "activation_layer_1 = ['softmax','relu', 'sigmoid', 'tanh']\n",
    "activation_layer_2 = ['softmax','relu', 'sigmoid', 'tanh']\n",
    "activation_last_layer = ['softmax','relu', 'sigmoid', 'tanh']\n",
    "neurons = [256,512,1024]\n",
    "dropout_rate_1 = [0.0, 0.1, 0.2,0.4,0.6,0.8]\n",
    "dropout_rate_2 = [0.0, 0.1, 0.2,0.4,0.6,0.8]\n",
    "param_distributions = dict(batch_size=batch_size, epochs=epochs,optimizer = optimizer,\n",
    "                           dropout_rate_1 = dropout_rate_1,\n",
    "                           dropout_rate_2 = dropout_rate_2,\n",
    "                           activation_layer_1=activation_layer_1, \n",
    "                           activation_layer_2=activation_layer_2,\n",
    "                           neurons = neurons,\n",
    "                           activation_last_layer = activation_last_layer)\n",
    "\n",
    "random_search = RandomizedSearchCV(estimator=modello_per_random_search, param_distributions=param_distributions, n_iter=5)\n",
    "network_history = random_search.fit(X_train, y_train)"
   ]
  },
  {
   "cell_type": "code",
   "execution_count": 97,
   "metadata": {},
   "outputs": [
    {
     "data": {
      "text/plain": [
       "{'optimizer': 'Adam',\n",
       " 'neurons': 512,\n",
       " 'epochs': 10,\n",
       " 'dropout_rate_2': 0.1,\n",
       " 'dropout_rate_1': 0.0,\n",
       " 'batch_size': 25,\n",
       " 'activation_layer_2': 'softmax',\n",
       " 'activation_layer_1': 'relu',\n",
       " 'activation_last_layer': 'softmax'}"
      ]
     },
     "execution_count": 97,
     "metadata": {},
     "output_type": "execute_result"
    }
   ],
   "source": [
    "network_history.best_params_"
   ]
  },
  {
   "cell_type": "code",
   "execution_count": 98,
   "metadata": {},
   "outputs": [],
   "source": [
    "predictions = network_history.predict(X_test)"
   ]
  },
  {
   "cell_type": "code",
   "execution_count": 99,
   "metadata": {},
   "outputs": [
    {
     "name": "stdout",
     "output_type": "stream",
     "text": [
      "[[21 11  0]\n",
      " [ 5 29  0]\n",
      " [ 0  0 24]]\n"
     ]
    },
    {
     "data": {
      "text/plain": [
       "<matplotlib.image.AxesImage at 0x15918269518>"
      ]
     },
     "execution_count": 99,
     "metadata": {},
     "output_type": "execute_result"
    },
    {
     "data": {
      "image/png": "[encoded data removed]",
      "text/plain": [
       "<Figure size 432x288 with 1 Axes>"
      ]
     },
     "metadata": {
      "needs_background": "light"
     },
     "output_type": "display_data"
    }
   ],
   "source": [
    "cm = confusion_matrix(y_test, predictions)\n",
    "print(cm)\n",
    "plt.imshow(cm, cmap=plt.cm.Blues)"
   ]
  },
  {
   "cell_type": "code",
   "execution_count": 100,
   "metadata": {},
   "outputs": [
    {
     "name": "stdout",
     "output_type": "stream",
     "text": [
      "0.8222222222222222\n"
     ]
    }
   ],
   "source": [
    "print(accuracy_score(y_test, predictions))"
   ]
  },
  {
   "cell_type": "markdown",
   "metadata": {},
   "source": [
    "<h2>Utilizzando la MFCC</h2>"
   ]
  },
  {
   "cell_type": "markdown",
   "metadata": {},
   "source": [
    "<h3>Data loading and feature extraction</h3>"
   ]
  },
  {
   "cell_type": "code",
   "execution_count": 101,
   "metadata": {},
   "outputs": [],
   "source": [
    "def identity(input):\n",
    "    return input\n",
    "\n",
    "# Data loader\n",
    "def load_data(feature_extractor=identity, normalize=True):\n",
    "\n",
    "    labels = []\n",
    "    features = []\n",
    "\n",
    "    for f in sorted(os.listdir('./AUDIO')):\n",
    "        if f.endswith('.wav'):\n",
    "            \n",
    "            # Load files and extract features\n",
    "            _, signal = wav.read('./AUDIO/' + f)\n",
    "            cur_features = feature_extractor(signal)\n",
    "            features.append(cur_features)\n",
    "\n",
    "            # labels\n",
    "            label = f.split('_')[0]\n",
    "            labels.append(int(label))\n",
    "\n",
    "            \n",
    "    features, labels = shuffle(features, labels)\n",
    "    X_train, X_test, y_train, y_test = train_test_split(features, labels, test_size=0.3)\n",
    "    labels=np.array(labels)\n",
    "\n",
    "    if normalize:\n",
    "        eps = 0.001\n",
    "        X_train = np.array(X_train)\n",
    "        X_train_mean = X_train.mean(axis=0)\n",
    "        X_train_std = X_train.std(axis=0)\n",
    "        X_train = (X_train - X_train_mean + eps)/(X_train_std + eps)\n",
    "        X_train = [row for row in X_train]\n",
    "\n",
    "        X_test = [row for row in (np.array(X_test) - X_train_mean + eps)/(X_train_std + eps)]\n",
    "        \n",
    "        X_train = np.array(X_train)\n",
    "        X_test= np.array(X_test)\n",
    "\n",
    "    return X_train, X_test, y_train, y_test, X_train_mean, X_train_std"
   ]
  },
  {
   "cell_type": "code",
   "execution_count": 102,
   "metadata": {},
   "outputs": [],
   "source": [
    "# Features functions \n",
    "\n",
    "def sdev(input):\n",
    "    return np.std(input, keepdims=True)\n",
    "\n",
    "def avg(input):\n",
    "    return np.mean(input, keepdims=True)\n",
    "\n",
    "def aavg(input):\n",
    "    return np.mean(np.abs(input), keepdims=True)\n",
    "\n",
    "def duration(input):\n",
    "    return input.shape\n",
    "\n",
    "def energy(input):\n",
    "    return np.sum((input*1.0)**2, keepdims=True)\n",
    "\n",
    "def zcr(input):\n",
    "    return np.array([np.nonzero(np.diff(input>0))[0].size])\n",
    "\n",
    "def mfcc(input, rate=8000, min_len=200, sampling=1):\n",
    "    signal = input[::sampling]\n",
    "    mfcc = librosa.feature.mfcc(signal*1.0, sr=int(rate/sampling))\n",
    "    mfcc = mfcc.flatten()\n",
    "    return np.array(mfcc)"
   ]
  },
  {
   "cell_type": "code",
   "execution_count": 103,
   "metadata": {},
   "outputs": [],
   "source": [
    "def combo(input):\n",
    "    return np.concatenate((aavg(input),sdev(input),duration(input),energy(input), zcr(input), mfcc(input))) "
   ]
  },
  {
   "cell_type": "code",
   "execution_count": 104,
   "metadata": {},
   "outputs": [],
   "source": [
    "# Data loading\n",
    "X_train, X_test, y_train, y_test, X_train_mean, X_train_std = load_data(feature_extractor=combo)"
   ]
  },
  {
   "cell_type": "code",
   "execution_count": 125,
   "metadata": {},
   "outputs": [],
   "source": [
    "#salvataggio dati per la demo\n",
    "with open(\"X_train_mean_punto1.txt\", \"w\") as txt_file:\n",
    "    for line in X_train_mean:\n",
    "        txt_file.write(str(line) + \" \")"
   ]
  },
  {
   "cell_type": "code",
   "execution_count": 126,
   "metadata": {},
   "outputs": [],
   "source": [
    "#salvataggio dati per la demo\n",
    "with open(\"X_train_std_punto1.txt\", \"w\") as txt_file:\n",
    "    for line in X_train_std:\n",
    "        txt_file.write(str(line) + \" \")"
   ]
  },
  {
   "cell_type": "code",
   "execution_count": 107,
   "metadata": {},
   "outputs": [
    {
     "data": {
      "text/plain": [
       "210"
      ]
     },
     "execution_count": 107,
     "metadata": {},
     "output_type": "execute_result"
    }
   ],
   "source": [
    "len(X_train)"
   ]
  },
  {
   "cell_type": "markdown",
   "metadata": {},
   "source": [
    "<h3>Classificazione</h3>"
   ]
  },
  {
   "cell_type": "markdown",
   "metadata": {},
   "source": [
    "<h3>Random forest</h3>"
   ]
  },
  {
   "cell_type": "code",
   "execution_count": 108,
   "metadata": {},
   "outputs": [],
   "source": [
    "# Parametri da provare in cross validation\n",
    "param_grid_rf = {'n_estimators': [1, 4, 8, 12, 16, 20],\n",
    "                 'criterion': ['entropy', 'gini'], }\n",
    "\n",
    "clf_rf = GridSearchCV(RandomForestClassifier(),param_grid_rf)\n",
    "\n",
    "clf_rf = clf_rf.fit(X_train, y_train)"
   ]
  },
  {
   "cell_type": "code",
   "execution_count": 109,
   "metadata": {},
   "outputs": [
    {
     "name": "stdout",
     "output_type": "stream",
     "text": [
      "Migliore combinazione di parametri:\n",
      " n_estimators: 20\n",
      " criterion: entropy\n"
     ]
    }
   ],
   "source": [
    "# Optimization results\n",
    "print(\"Best results:\")\n",
    "print(\" n_estimators: \"+str(clf_rf.best_estimator_.n_estimators))\n",
    "print(\" criterion: \"+str(clf_rf.best_estimator_.criterion))"
   ]
  },
  {
   "cell_type": "code",
   "execution_count": 110,
   "metadata": {},
   "outputs": [],
   "source": [
    "clf_rf_pred = clf_rf.predict(X_test) "
   ]
  },
  {
   "cell_type": "code",
   "execution_count": 111,
   "metadata": {},
   "outputs": [
    {
     "name": "stdout",
     "output_type": "stream",
     "text": [
      "              precision    recall  f1-score   support\n",
      "\n",
      "           0       1.00      1.00      1.00        28\n",
      "           1       1.00      1.00      1.00        27\n",
      "           2       1.00      1.00      1.00        35\n",
      "\n",
      "   micro avg       1.00      1.00      1.00        90\n",
      "   macro avg       1.00      1.00      1.00        90\n",
      "weighted avg       1.00      1.00      1.00        90\n",
      "\n"
     ]
    }
   ],
   "source": [
    "print(classification_report(y_test, clf_rf_pred))"
   ]
  },
  {
   "cell_type": "code",
   "execution_count": 112,
   "metadata": {},
   "outputs": [
    {
     "name": "stdout",
     "output_type": "stream",
     "text": [
      "[[28  0  0]\n",
      " [ 0 27  0]\n",
      " [ 0  0 35]]\n"
     ]
    },
    {
     "data": {
      "text/plain": [
       "<matplotlib.image.AxesImage at 0x15917e403c8>"
      ]
     },
     "execution_count": 112,
     "metadata": {},
     "output_type": "execute_result"
    },
    {
     "data": {
      "image/png": "[encoded data removed]",
      "text/plain": [
       "<Figure size 432x288 with 1 Axes>"
      ]
     },
     "metadata": {
      "needs_background": "light"
     },
     "output_type": "display_data"
    }
   ],
   "source": [
    "cm = confusion_matrix(y_test, clf_rf_pred)   \n",
    "print(cm)\n",
    "plt.imshow(cm, cmap=plt.cm.Blues)"
   ]
  },
  {
   "cell_type": "code",
   "execution_count": 113,
   "metadata": {},
   "outputs": [
    {
     "name": "stdout",
     "output_type": "stream",
     "text": [
      "1.0\n"
     ]
    }
   ],
   "source": [
    "print(accuracy_score(y_test, clf_rf_pred))"
   ]
  },
  {
   "cell_type": "code",
   "execution_count": 133,
   "metadata": {},
   "outputs": [
    {
     "data": {
      "text/plain": [
       "['rf_punto1.sav']"
      ]
     },
     "execution_count": 133,
     "metadata": {},
     "output_type": "execute_result"
    }
   ],
   "source": [
    "#salvataggio modello per la demo\n",
    "filename = 'rf_punto1.sav'\n",
    "joblib.dump(clf_rf, filename)"
   ]
  },
  {
   "cell_type": "markdown",
   "metadata": {},
   "source": [
    "<h3>Support Vector Machine</h3>"
   ]
  },
  {
   "cell_type": "code",
   "execution_count": 116,
   "metadata": {},
   "outputs": [],
   "source": [
    "# Hyperparameters to try\n",
    "param_grid_svc = {'C': [10, 50, 100, 150, 1000],\n",
    "                  'gamma': [0.005, 0.001, 0.01, 0.5],\n",
    "                  'kernel': ['linear', 'rbf', 'poly']}\n",
    "\n",
    "clf_svc = GridSearchCV(SVC(class_weight='balanced'), param_grid_svc, cv=3)\n",
    "\n",
    "clf_svc = clf_svc.fit(X_train, y_train)"
   ]
  },
  {
   "cell_type": "code",
   "execution_count": 117,
   "metadata": {},
   "outputs": [
    {
     "name": "stdout",
     "output_type": "stream",
     "text": [
      "Best parameters:\n",
      " C: 10\n",
      " gamma: 0.005\n",
      " kernel: linear\n"
     ]
    }
   ],
   "source": [
    "#Best parameters\n",
    "print(\"Migliore combinazione di parametri:\")\n",
    "print(\" C: \"+str(clf_svc.best_estimator_.C))\n",
    "print(\" gamma: \"+str(clf_svc.best_estimator_.gamma))\n",
    "print(\" kernel: \"+str(clf_svc.best_estimator_.kernel))"
   ]
  },
  {
   "cell_type": "code",
   "execution_count": 118,
   "metadata": {},
   "outputs": [],
   "source": [
    "clf_svc_pred = clf_svc.predict(X_test)"
   ]
  },
  {
   "cell_type": "code",
   "execution_count": 119,
   "metadata": {},
   "outputs": [
    {
     "name": "stdout",
     "output_type": "stream",
     "text": [
      "              precision    recall  f1-score   support\n",
      "\n",
      "           0       1.00      1.00      1.00        28\n",
      "           1       1.00      1.00      1.00        27\n",
      "           2       1.00      1.00      1.00        35\n",
      "\n",
      "   micro avg       1.00      1.00      1.00        90\n",
      "   macro avg       1.00      1.00      1.00        90\n",
      "weighted avg       1.00      1.00      1.00        90\n",
      "\n"
     ]
    }
   ],
   "source": [
    "print(classification_report(y_test, clf_svc_pred))"
   ]
  },
  {
   "cell_type": "code",
   "execution_count": 120,
   "metadata": {},
   "outputs": [
    {
     "name": "stdout",
     "output_type": "stream",
     "text": [
      "[[28  0  0]\n",
      " [ 0 27  0]\n",
      " [ 0  0 35]]\n"
     ]
    },
    {
     "data": {
      "text/plain": [
       "<matplotlib.image.AxesImage at 0x15917e972b0>"
      ]
     },
     "execution_count": 120,
     "metadata": {},
     "output_type": "execute_result"
    },
    {
     "data": {
      "image/png": "[encoded data removed]",
      "text/plain": [
       "<Figure size 432x288 with 1 Axes>"
      ]
     },
     "metadata": {
      "needs_background": "light"
     },
     "output_type": "display_data"
    }
   ],
   "source": [
    "cm = confusion_matrix(y_test, clf_svc_pred)\n",
    "print(cm)\n",
    "plt.imshow(cm, cmap=plt.cm.Blues)"
   ]
  },
  {
   "cell_type": "code",
   "execution_count": 121,
   "metadata": {},
   "outputs": [
    {
     "name": "stdout",
     "output_type": "stream",
     "text": [
      "1.0\n"
     ]
    }
   ],
   "source": [
    "print(accuracy_score(y_test, clf_svc_pred))"
   ]
  },
  {
   "cell_type": "markdown",
   "metadata": {},
   "source": [
    "<h3>Neural network</h3>"
   ]
  },
  {
   "cell_type": "code",
   "execution_count": 122,
   "metadata": {},
   "outputs": [
    {
     "data": {
      "text/plain": [
       "(210, 8625)"
      ]
     },
     "execution_count": 122,
     "metadata": {},
     "output_type": "execute_result"
    }
   ],
   "source": [
    "np.shape(X_train)"
   ]
  },
  {
   "cell_type": "code",
   "execution_count": 127,
   "metadata": {},
   "outputs": [],
   "source": [
    "def NN_model(optimizer='adam', activation_layer_1 ='softmax',activation_layer_2 ='softmax', activation_last_layer = 'softmax',  neurons = 1, dropout_rate_1 = 0.0, dropout_rate_2 = 0.0):\n",
    "\n",
    "    modello= Sequential()\n",
    "    modello.add(Dense(neurons, activation='relu', input_shape=(8625,)))\n",
    "    modello.add(Dropout(dropout_rate_1))\n",
    "    modello.add(Dense(neurons, activation=activation_layer_1))\n",
    "    modello.add(Dropout(dropout_rate_2))\n",
    "    modello.add(Dense(neurons, activation=activation_layer_2))\n",
    "    modello.add(Dense(3, activation = activation_last_layer))\n",
    "    modello.compile(optimizer=optimizer, loss='sparse_categorical_crossentropy',metrics=['accuracy'])\n",
    "    \n",
    "    return(modello)"
   ]
  },
  {
   "cell_type": "code",
   "execution_count": 128,
   "metadata": {},
   "outputs": [],
   "source": [
    "modello_per_random_search = KerasClassifier(build_fn=NN_model, verbose = 0)\n",
    "batch_size = [10,25,50]\n",
    "epochs = [3,5,10]\n",
    "optimizer = ['Adadelta', 'Adam']\n",
    "activation_layer_1 = ['softmax','relu', 'sigmoid', 'tanh']\n",
    "activation_layer_2 = ['softmax','relu', 'sigmoid', 'tanh']\n",
    "activation_last_layer = ['softmax','relu', 'sigmoid', 'tanh']\n",
    "neurons = [256,512,1024]\n",
    "dropout_rate_1 = [0.0, 0.1, 0.2,0.4,0.6,0.8]\n",
    "dropout_rate_2 = [0.0, 0.1, 0.2,0.4,0.6,0.8]\n",
    "param_distributions = dict(batch_size=batch_size, epochs=epochs,optimizer = optimizer,\n",
    "                           dropout_rate_1 = dropout_rate_1,\n",
    "                           dropout_rate_2 = dropout_rate_2,\n",
    "                           activation_layer_1=activation_layer_1, \n",
    "                           activation_layer_2=activation_layer_2,\n",
    "                           neurons = neurons,\n",
    "                           activation_last_layer = activation_last_layer)\n",
    "\n",
    "random_search = RandomizedSearchCV(estimator=modello_per_random_search, param_distributions=param_distributions, n_iter=5)\n",
    "network_history = random_search.fit(X_train, y_train)"
   ]
  },
  {
   "cell_type": "code",
   "execution_count": 129,
   "metadata": {},
   "outputs": [
    {
     "data": {
      "text/plain": [
       "{'optimizer': 'Adam',\n",
       " 'neurons': 512,\n",
       " 'epochs': 3,\n",
       " 'dropout_rate_2': 0.6,\n",
       " 'dropout_rate_1': 0.4,\n",
       " 'batch_size': 10,\n",
       " 'activation_layer_2': 'tanh',\n",
       " 'activation_layer_1': 'sigmoid',\n",
       " 'activation_last_layer': 'sigmoid'}"
      ]
     },
     "execution_count": 129,
     "metadata": {},
     "output_type": "execute_result"
    }
   ],
   "source": [
    "network_history.best_params_"
   ]
  },
  {
   "cell_type": "code",
   "execution_count": 130,
   "metadata": {},
   "outputs": [],
   "source": [
    "predictions = network_history.predict(X_test)"
   ]
  },
  {
   "cell_type": "code",
   "execution_count": 131,
   "metadata": {},
   "outputs": [
    {
     "name": "stdout",
     "output_type": "stream",
     "text": [
      "[[28  0  0]\n",
      " [ 0 27  0]\n",
      " [ 0  0 35]]\n"
     ]
    },
    {
     "data": {
      "text/plain": [
       "<matplotlib.image.AxesImage at 0x159991c4cc0>"
      ]
     },
     "execution_count": 131,
     "metadata": {},
     "output_type": "execute_result"
    },
    {
     "data": {
      "image/png": "[encoded data removed]",
      "text/plain": [
       "<Figure size 432x288 with 1 Axes>"
      ]
     },
     "metadata": {
      "needs_background": "light"
     },
     "output_type": "display_data"
    }
   ],
   "source": [
    "cm = confusion_matrix(y_test, predictions)\n",
    "print(cm)\n",
    "plt.imshow(cm, cmap=plt.cm.Blues)"
   ]
  },
  {
   "cell_type": "code",
   "execution_count": 132,
   "metadata": {},
   "outputs": [
    {
     "name": "stdout",
     "output_type": "stream",
     "text": [
      "1.0\n"
     ]
    }
   ],
   "source": [
    "print(accuracy_score(y_test, predictions))"
   ]
  }
 ],
 "metadata": {
  "kernelspec": {
   "display_name": "Python 3",
   "language": "python",
   "name": "python3"
  },
  "language_info": {
   "codemirror_mode": {
    "name": "ipython",
    "version": 3
   },
   "file_extension": ".py",
   "mimetype": "text/x-python",
   "name": "python",
   "nbconvert_exporter": "python",
   "pygments_lexer": "ipython3",
   "version": "3.7.1"
  }
 },
 "nbformat": 4,
 "nbformat_minor": 2
}

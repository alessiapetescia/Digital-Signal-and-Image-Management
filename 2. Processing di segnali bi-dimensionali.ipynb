{
 "cells": [
  {
   "cell_type": "markdown",
   "metadata": {},
   "source": [
    "<div align=\"right\"><h8><i>Cristina Cristalli - 838022<br>\n",
    "Francesca Franzese - 847780<br>\n",
    "    Alessia Petescia - 839141</i><br><br>\n",
    "    <b>Progetto Digital Signal and Image Management - Punto 2<br>\n",
    "        CdL Data Science 2020</b></h8></div>"
   ]
  },
  {
   "cell_type": "markdown",
   "metadata": {},
   "source": [
    "<h2>2. Processing di segnali bi-dimensionali</h2>"
   ]
  },
  {
   "cell_type": "markdown",
   "metadata": {},
   "source": [
    "<b>Task:</b> Riconoscere l'identità dei membri del gruppo a partire da una foto del volto.\n",
    "<br><br>Le foto dei membri del gruppo sono state scattate con <b><i> posizione, espressione e illuminazione variabile</i></b>. In totale, sono state acquisite 2050 immagini.\n",
    "Queste sono state poi ottimizzate per il task attraverso l'applicazione di un face detector implementato con OpenCV.\n",
    "<p>Il notebook è strutturato come segue:</p>\n",
    "<ol>\n",
    "<li><i>Caricamento delle immagini e applicazione del face detector</i></li><br>\n",
    "<li><i>Estrazione delle features convoluzionali attraverso modelli pre-allenati</i>: \n",
    "<ul style=\"list-style-type:square\">\n",
    "<li>VGG16</li>\n",
    "<li>Densenet121</li>\n",
    "</ul><br>\n",
    "</li>\n",
    "<li><i>Addestramento dei modelli di classificazione sulle features estratte: </i> gli iperparametri dei modelli sono stati scelti utilizzando le tecniche del Grid Search e del Random search.\n",
    "I modelli implementati sono:\n",
    "<ul style=\"list-style-type:square\">\n",
    "<li>Logistic regression</li>\n",
    "<li>Random Forest</li>\n",
    "<li>Neural Network</li>\n",
    "</ul>\n",
    "</li>\n",
    "</ol>"
   ]
  },
  {
   "cell_type": "code",
   "execution_count": 1,
   "metadata": {},
   "outputs": [
    {
     "name": "stderr",
     "output_type": "stream",
     "text": [
      "Using TensorFlow backend.\n"
     ]
    }
   ],
   "source": [
    "import os\n",
    "import numpy as np\n",
    "from numpy import expand_dims\n",
    "from numpy import asarray\n",
    "import pandas as pd\n",
    "import cv2\n",
    "import random\n",
    "import PIL\n",
    "from PIL import Image\n",
    "from os import listdir\n",
    "from matplotlib import image\n",
    "from matplotlib import pyplot as plt\n",
    "import seaborn as sns\n",
    "\n",
    "import mtcnn\n",
    "from mtcnn.mtcnn import MTCNN\n",
    "\n",
    "# Importing sklearn libraries\n",
    "from sklearn.model_selection import GridSearchCV,train_test_split\n",
    "from sklearn.metrics import classification_report, confusion_matrix, accuracy_score\n",
    "from sklearn.utils import shuffle\n",
    "from sklearn.linear_model import LogisticRegression\n",
    "from sklearn.ensemble import RandomForestClassifier\n",
    " \n",
    "# Importing Keras libraries\n",
    "import keras\n",
    "from keras.utils import np_utils\n",
    "from keras.models import Sequential , Model\n",
    "from tensorflow.keras.applications import VGG16, DenseNet121\n",
    "from keras.applications import imagenet_utils\n",
    "from keras.callbacks import ModelCheckpoint\n",
    "from keras.preprocessing.image import load_img,img_to_array\n",
    "from keras.layers import Dense, Conv2D, MaxPooling2D, Dropout, Flatten, GlobalAveragePooling2D , Input, ReLU, Softmax\n",
    "from keras_vggface.vggface import VGGFace\n",
    "from keras.applications.vgg16 import preprocess_input\n",
    "from keras.applications.densenet import preprocess_input as preprocess_input_ds\n",
    "from keras.engine import  Model\n",
    "from keras.layers import Input\n",
    "from sklearn.model_selection import train_test_split, GridSearchCV, RandomizedSearchCV\n",
    "from keras.wrappers.scikit_learn import KerasClassifier \n",
    "\n",
    "import tensorflow\n",
    "from tensorflow.keras import models\n",
    "from tensorflow.keras import layers\n",
    "from tensorflow.keras import optimizers"
   ]
  },
  {
   "cell_type": "code",
   "execution_count": 2,
   "metadata": {},
   "outputs": [],
   "source": [
    "import warnings\n",
    "warnings.filterwarnings('ignore')"
   ]
  },
  {
   "cell_type": "markdown",
   "metadata": {},
   "source": [
    "<h2>Face Detector</h2>"
   ]
  },
  {
   "cell_type": "code",
   "execution_count": 3,
   "metadata": {},
   "outputs": [],
   "source": [
    "detector = MTCNN()"
   ]
  },
  {
   "cell_type": "code",
   "execution_count": 4,
   "metadata": {},
   "outputs": [],
   "source": [
    "def face_detector(id_persona, train):\n",
    "    fotoscartate = 0\n",
    "    nr=0\n",
    "\n",
    "    for elem in train:\n",
    "        required_size=(224, 224)\n",
    "        pixels = cv2.imread(train[nr])\n",
    "        results = detector.detect_faces(pixels)\n",
    "\n",
    "        if not results or results[0]==False:\n",
    "            nr=nr+1\n",
    "            fotoscartate = fotoscartate + 1\n",
    "            continue\n",
    "\n",
    "        # estrazione della bounding box\n",
    "        x1, y1, width, height = results[0]['box']\n",
    "        x2, y2 = x1 + width, y1 + height\n",
    "\n",
    "        # estrazione della faccia\n",
    "        face = pixels[y1:y2, x1:x2]\n",
    "\n",
    "        if face.any()==[] or face.any()==False:\n",
    "            nr=nr+1\n",
    "            fotoscartate = fotoscartate + 1\n",
    "            continue\n",
    "\n",
    "        # resize dei pixels alla size standard\n",
    "        image = Image.fromarray(face)\n",
    "        image = image.resize(required_size)\n",
    "        \n",
    "        # conversione dell'immagine in un array\n",
    "        face_array = asarray(image)    \n",
    "        \n",
    "        # Salvataggio delle foto in una cartella in locale, così da permettere il reload più veloce\n",
    "        directory='C:/Users/Francesca Franzese/Desktop/Digital Signal and Image Management/Progetto/foto_detected'\n",
    "        os.chdir(directory)\n",
    "        cv2.imwrite(id_persona + str(nr) + '.jpg', face_array)\n",
    "\n",
    "        nr=nr+1\n",
    "\n",
    "    return fotoscartate"
   ]
  },
  {
   "cell_type": "code",
   "execution_count": 5,
   "metadata": {},
   "outputs": [
    {
     "name": "stdout",
     "output_type": "stream",
     "text": [
      "# foto iniziali: 675\n",
      "# foto scartate: 62\n",
      "# foto totali Alessia: 613\n"
     ]
    }
   ],
   "source": [
    "#face detector per le foto di Alessia\n",
    "alessia_train = []\n",
    "\n",
    "for elem in listdir('C:/Users/Francesca Franzese/Desktop/Digital Signal and Image Management/Progetto/foto_ale'):\n",
    "    alessia_train.append('C:/Users/Francesca Franzese/Desktop/Digital Signal and Image Management/Progetto/foto_ale/' + elem)\n",
    "\n",
    "print(\"# foto iniziali: \" + str(len(alessia_train)))\n",
    "    \n",
    "fotoscartate = face_detector(\"0_\", alessia_train)\n",
    "print(\"# foto scartate: \" + str(fotoscartate))\n",
    "\n",
    "print(\"# foto totali Alessia: \" + str(len(alessia_train) - fotoscartate) )"
   ]
  },
  {
   "cell_type": "code",
   "execution_count": 6,
   "metadata": {},
   "outputs": [
    {
     "name": "stdout",
     "output_type": "stream",
     "text": [
      "# foto iniziali: 697\n",
      "# foto scartate: 2\n",
      "# foto totali Cristina: 695\n"
     ]
    }
   ],
   "source": [
    "#face detector per le foto di Cristina\n",
    "cristina_train = []\n",
    "\n",
    "for elem in listdir('C:/Users/Francesca Franzese/Desktop/Digital Signal and Image Management/Progetto/foto_cri'):\n",
    "    cristina_train.append('C:/Users/Francesca Franzese/Desktop/Digital Signal and Image Management/Progetto/foto_cri/' + elem)\n",
    "\n",
    "print(\"# foto iniziali: \" + str(len(cristina_train)))\n",
    "\n",
    "fotoscartate = face_detector(\"1_\", cristina_train)\n",
    "print(\"# foto scartate: \" + str(fotoscartate))\n",
    "\n",
    "print(\"# foto totali Cristina: \" + str(len(cristina_train) - fotoscartate) )"
   ]
  },
  {
   "cell_type": "code",
   "execution_count": 7,
   "metadata": {},
   "outputs": [
    {
     "name": "stdout",
     "output_type": "stream",
     "text": [
      "# foto iniziali: 678\n",
      "# foto scartate: 11\n",
      "# foto totali Francesca: 667\n"
     ]
    }
   ],
   "source": [
    "#face detector per le foto di Francesca\n",
    "francesca_train = []\n",
    "\n",
    "for elem in listdir('C:/Users/Francesca Franzese/Desktop/Digital Signal and Image Management/Progetto/foto_fra'):\n",
    "    francesca_train.append('C:/Users/Francesca Franzese/Desktop/Digital Signal and Image Management/Progetto/foto_fra/' + elem)\n",
    "\n",
    "print(\"# foto iniziali: \" + str(len(francesca_train)))\n",
    "\n",
    "fotoscartate = face_detector(\"2_\", francesca_train)\n",
    "print(\"# foto scartate: \" + str(fotoscartate))\n",
    "\n",
    "print(\"# foto totali Francesca: \" + str(len(francesca_train) - fotoscartate) )"
   ]
  },
  {
   "cell_type": "markdown",
   "metadata": {},
   "source": [
    "<h2>Caricamento immagini</h2>"
   ]
  },
  {
   "cell_type": "code",
   "execution_count": 8,
   "metadata": {},
   "outputs": [],
   "source": [
    "#Caricamento immagini da locale, già passate nel face detector\n",
    "\n",
    "#carico dataset\n",
    "db_immagini = []\n",
    "# variabile \n",
    "y=[]\n",
    "\n",
    "#caricamento\n",
    "for filename in listdir('C:/Users/Francesca Franzese/Desktop/Digital Signal and Image Management/Progetto/foto_detected'):\n",
    "    img_data = cv2.imread('C:/Users/Francesca Franzese/Desktop/Digital Signal and Image Management/Progetto/foto_detected/' + filename)\n",
    "    img_data = cv2.resize(img_data,(224, 224))\n",
    "    img_data = np.asarray(img_data)\n",
    "    db_immagini.append([img_data])\n",
    "    y.append(list(filename)[0])"
   ]
  },
  {
   "cell_type": "code",
   "execution_count": 9,
   "metadata": {},
   "outputs": [
    {
     "data": {
      "text/plain": [
       "1975"
      ]
     },
     "execution_count": 9,
     "metadata": {},
     "output_type": "execute_result"
    }
   ],
   "source": [
    "len(db_immagini)"
   ]
  },
  {
   "cell_type": "code",
   "execution_count": 10,
   "metadata": {},
   "outputs": [
    {
     "data": {
      "text/plain": [
       "(1, 224, 224, 3)"
      ]
     },
     "execution_count": 10,
     "metadata": {},
     "output_type": "execute_result"
    }
   ],
   "source": [
    "np.shape(db_immagini[1])"
   ]
  },
  {
   "cell_type": "code",
   "execution_count": 11,
   "metadata": {},
   "outputs": [],
   "source": [
    "# reshape\n",
    "db_immagini=np.array(db_immagini).reshape(-1,224, 224,3)"
   ]
  },
  {
   "cell_type": "code",
   "execution_count": 12,
   "metadata": {},
   "outputs": [
    {
     "data": {
      "text/plain": [
       "(224, 224, 3)"
      ]
     },
     "execution_count": 12,
     "metadata": {},
     "output_type": "execute_result"
    }
   ],
   "source": [
    "np.shape(db_immagini[1])"
   ]
  },
  {
   "cell_type": "markdown",
   "metadata": {},
   "source": [
    "<h2>Classificazione</h2>"
   ]
  },
  {
   "cell_type": "markdown",
   "metadata": {},
   "source": [
    "<h2>VGGFace</h2>"
   ]
  },
  {
   "cell_type": "code",
   "execution_count": 13,
   "metadata": {},
   "outputs": [],
   "source": [
    "# preprocessing delle immagini per la VGG\n",
    "db_immagini_vgg = preprocess_input(db_immagini)"
   ]
  },
  {
   "cell_type": "code",
   "execution_count": 14,
   "metadata": {},
   "outputs": [],
   "source": [
    "# divisione in train e test\n",
    "db_immagini_vgg, y = shuffle(db_immagini_vgg, y)\n",
    "X_train, X_test, y_train, y_test = train_test_split(db_immagini_vgg, y, test_size=0.3)"
   ]
  },
  {
   "cell_type": "code",
   "execution_count": 15,
   "metadata": {},
   "outputs": [],
   "source": [
    "X_train = X_train.astype('float32')/255.0\n",
    "X_test = X_test.astype('float32')/255.0"
   ]
  },
  {
   "cell_type": "code",
   "execution_count": 16,
   "metadata": {},
   "outputs": [],
   "source": [
    "# utilizzo del modello VGGFace per l'estrazione delle features convoluzionali \n",
    "vgg_features = VGGFace(include_top=False, input_shape=(224, 224, 3), pooling='avg')\n",
    "\n",
    "X_train_embedding = vgg_features.predict(X_train)\n",
    "X_test_embedding = vgg_features.predict(X_test)"
   ]
  },
  {
   "cell_type": "markdown",
   "metadata": {},
   "source": [
    "<h4>Regressione Logistica</h4>"
   ]
  },
  {
   "cell_type": "code",
   "execution_count": 17,
   "metadata": {},
   "outputs": [
    {
     "data": {
      "text/plain": [
       "GridSearchCV(cv='warn', error_score='raise-deprecating',\n",
       "       estimator=LogisticRegression(C=1.0, class_weight=None, dual=False, fit_intercept=True,\n",
       "          intercept_scaling=1, max_iter=100, multi_class='warn',\n",
       "          n_jobs=None, penalty='l2', random_state=0, solver='warn',\n",
       "          tol=0.0001, verbose=0, warm_start=False),\n",
       "       fit_params=None, iid='warn', n_jobs=None,\n",
       "       param_grid=[{'solver': ['newton-cg', 'lbfgs', 'sag', 'saga']}],\n",
       "       pre_dispatch='2*n_jobs', refit=True, return_train_score='warn',\n",
       "       scoring='accuracy', verbose=0)"
      ]
     },
     "execution_count": 17,
     "metadata": {},
     "output_type": "execute_result"
    }
   ],
   "source": [
    "# Parametri da provare in cross validation\n",
    "param_grid= [{'solver': ['newton-cg', 'lbfgs','sag', 'saga']}]\n",
    "    \n",
    "clf_lr = GridSearchCV(LogisticRegression(random_state=0), param_grid, scoring='accuracy')\n",
    "\n",
    "clf_lr.fit(X_train_embedding, y_train)"
   ]
  },
  {
   "cell_type": "code",
   "execution_count": 18,
   "metadata": {
    "scrolled": true
   },
   "outputs": [
    {
     "name": "stdout",
     "output_type": "stream",
     "text": [
      "Migliore combinazione di parametri:\n",
      " solver: newton-cg\n"
     ]
    }
   ],
   "source": [
    "print(\"Migliore combinazione di parametri:\")\n",
    "print(\" solver: \"+str(clf_lr.best_estimator_.solver))"
   ]
  },
  {
   "cell_type": "code",
   "execution_count": 20,
   "metadata": {},
   "outputs": [],
   "source": [
    "clf_lr_pred=clf_lr.predict(X_test_embedding)"
   ]
  },
  {
   "cell_type": "code",
   "execution_count": 21,
   "metadata": {
    "scrolled": true
   },
   "outputs": [
    {
     "name": "stdout",
     "output_type": "stream",
     "text": [
      "              precision    recall  f1-score   support\n",
      "\n",
      "           0       0.99      1.00      1.00       188\n",
      "           1       1.00      1.00      1.00       216\n",
      "           2       1.00      0.99      1.00       189\n",
      "\n",
      "   micro avg       1.00      1.00      1.00       593\n",
      "   macro avg       1.00      1.00      1.00       593\n",
      "weighted avg       1.00      1.00      1.00       593\n",
      "\n"
     ]
    }
   ],
   "source": [
    "print(classification_report(y_test, clf_lr_pred))"
   ]
  },
  {
   "cell_type": "code",
   "execution_count": 22,
   "metadata": {
    "scrolled": true
   },
   "outputs": [
    {
     "name": "stdout",
     "output_type": "stream",
     "text": [
      "[[188   0   0]\n",
      " [  0 216   0]\n",
      " [  1   0 188]]\n"
     ]
    },
    {
     "data": {
      "text/plain": [
       "<matplotlib.image.AxesImage at 0x1f3c538dac8>"
      ]
     },
     "execution_count": 22,
     "metadata": {},
     "output_type": "execute_result"
    },
    {
     "data": {
      "image/png": "[encoded data removed]",
      "text/plain": [
       "<Figure size 432x288 with 1 Axes>"
      ]
     },
     "metadata": {
      "needs_background": "light"
     },
     "output_type": "display_data"
    }
   ],
   "source": [
    "cm = confusion_matrix(y_test, clf_lr_pred)   \n",
    "print(cm)\n",
    "plt.imshow(cm, cmap=plt.cm.Blues)"
   ]
  },
  {
   "cell_type": "code",
   "execution_count": 23,
   "metadata": {},
   "outputs": [
    {
     "name": "stdout",
     "output_type": "stream",
     "text": [
      "0.9983136593591906\n"
     ]
    }
   ],
   "source": [
    "print(accuracy_score(y_test, clf_lr_pred))"
   ]
  },
  {
   "cell_type": "markdown",
   "metadata": {},
   "source": [
    "<h4>Random Forest</h4>"
   ]
  },
  {
   "cell_type": "code",
   "execution_count": 24,
   "metadata": {},
   "outputs": [],
   "source": [
    "# Parametri da provare in cross validation\n",
    "param_grid_rf = {'n_estimators': [1, 4, 8, 12, 16, 20],\n",
    "                 'criterion': ['entropy', 'gini'], }\n",
    "\n",
    "clf_rf = GridSearchCV(RandomForestClassifier(),param_grid_rf)\n",
    "\n",
    "clf_rf = clf_rf.fit(X_train_embedding, y_train)"
   ]
  },
  {
   "cell_type": "code",
   "execution_count": 25,
   "metadata": {},
   "outputs": [
    {
     "name": "stdout",
     "output_type": "stream",
     "text": [
      "Migliore combinazione di parametri:\n",
      " n_estimators: 20\n",
      " criterion: gini\n"
     ]
    }
   ],
   "source": [
    "# Risultato della cross validation per la selezione dei parametri\n",
    "print(\"Migliore combinazione di parametri:\")\n",
    "print(\" n_estimators: \"+str(clf_rf.best_estimator_.n_estimators))\n",
    "print(\" criterion: \"+str(clf_rf.best_estimator_.criterion))"
   ]
  },
  {
   "cell_type": "code",
   "execution_count": 26,
   "metadata": {},
   "outputs": [],
   "source": [
    "clf_rf_pred = clf_rf.predict(X_test_embedding) "
   ]
  },
  {
   "cell_type": "code",
   "execution_count": 27,
   "metadata": {},
   "outputs": [
    {
     "name": "stdout",
     "output_type": "stream",
     "text": [
      "              precision    recall  f1-score   support\n",
      "\n",
      "           0       0.99      1.00      0.99       188\n",
      "           1       1.00      1.00      1.00       216\n",
      "           2       1.00      0.99      1.00       189\n",
      "\n",
      "   micro avg       1.00      1.00      1.00       593\n",
      "   macro avg       1.00      1.00      1.00       593\n",
      "weighted avg       1.00      1.00      1.00       593\n",
      "\n"
     ]
    }
   ],
   "source": [
    "print(classification_report(y_test, clf_rf_pred))"
   ]
  },
  {
   "cell_type": "code",
   "execution_count": 28,
   "metadata": {},
   "outputs": [
    {
     "name": "stdout",
     "output_type": "stream",
     "text": [
      "[[188   0   0]\n",
      " [  1 215   0]\n",
      " [  1   0 188]]\n"
     ]
    },
    {
     "data": {
      "text/plain": [
       "<matplotlib.image.AxesImage at 0x1f3c542bbe0>"
      ]
     },
     "execution_count": 28,
     "metadata": {},
     "output_type": "execute_result"
    },
    {
     "data": {
      "image/png": "[encoded data removed]",
      "text/plain": [
       "<Figure size 432x288 with 1 Axes>"
      ]
     },
     "metadata": {
      "needs_background": "light"
     },
     "output_type": "display_data"
    }
   ],
   "source": [
    "cm = confusion_matrix(y_test, clf_rf_pred)   \n",
    "print(cm)\n",
    "plt.imshow(cm, cmap=plt.cm.Blues)"
   ]
  },
  {
   "cell_type": "code",
   "execution_count": 29,
   "metadata": {},
   "outputs": [
    {
     "name": "stdout",
     "output_type": "stream",
     "text": [
      "0.9966273187183811\n"
     ]
    }
   ],
   "source": [
    "print(accuracy_score(y_test, clf_rf_pred))"
   ]
  },
  {
   "cell_type": "markdown",
   "metadata": {},
   "source": [
    "<h4>Neural Network</h4>"
   ]
  },
  {
   "cell_type": "code",
   "execution_count": 30,
   "metadata": {},
   "outputs": [
    {
     "data": {
      "text/plain": [
       "(1382, 512)"
      ]
     },
     "execution_count": 30,
     "metadata": {},
     "output_type": "execute_result"
    }
   ],
   "source": [
    "np.shape(X_train_embedding)"
   ]
  },
  {
   "cell_type": "code",
   "execution_count": 58,
   "metadata": {},
   "outputs": [],
   "source": [
    "def NN_model(optimizer='adam', activation_layer_1 ='softmax',activation_layer_2 ='softmax', activation_last_layer = 'softmax',  neurons = 1, dropout_rate_1 = 0.0, dropout_rate_2 = 0.0, dropout_rate_3 = 0.0):\n",
    "\n",
    "    modello= Sequential()\n",
    "    modello.add(Dense(neurons, activation='relu', input_shape=(512,)))\n",
    "    #modello.add(Flatten())\n",
    "    modello.add(Dropout(dropout_rate_1))\n",
    "    modello.add(Dense(neurons, activation=activation_layer_1))\n",
    "    modello.add(Dropout(dropout_rate_2))\n",
    "    modello.add(Dense(neurons, activation=activation_layer_2))\n",
    "    modello.add(Dropout(dropout_rate_3))\n",
    "    modello.add(Dense(3, activation = activation_last_layer))\n",
    "    modello.compile(optimizer=optimizer, loss='sparse_categorical_crossentropy',metrics=['accuracy'])\n",
    "    \n",
    "    return(modello)"
   ]
  },
  {
   "cell_type": "code",
   "execution_count": null,
   "metadata": {},
   "outputs": [],
   "source": [
    "modello_per_grid_search = KerasClassifier(build_fn=NN_model, verbose = 0)\n",
    "batch_size = [150, 200]\n",
    "epochs = [3,5]\n",
    "optimizer = ['Adadelta', 'Adam']\n",
    "activation_layer_1 = ['softmax','relu']\n",
    "activation_layer_2 = ['softmax','relu']\n",
    "activation_last_layer = ['softmax','relu']\n",
    "neurons = [512,1024]\n",
    "dropout_rate_1 = [0.0, 0.5]\n",
    "dropout_rate_2 = [0.0, 0.5]\n",
    "dropout_rate_3 = [0.0, 0.5]\n",
    "param_grid = dict(batch_size=batch_size, epochs=epochs,optimizer = optimizer,\n",
    "                           dropout_rate_1 = dropout_rate_1,\n",
    "                           dropout_rate_2 = dropout_rate_2,\n",
    "                           dropout_rate_3 = dropout_rate_3,\n",
    "                           activation_layer_1=activation_layer_1, \n",
    "                           activation_layer_2=activation_layer_2,\n",
    "                           neurons = neurons,\n",
    "                           activation_last_layer = activation_last_layer)\n",
    "\n",
    "grid_search_nn = GridSearchCV(estimator=modello_per_grid_search, param_grid=param_grid, cv=2)\n",
    "network_history = grid_search_nn.fit(X_train_embedding, y_train)"
   ]
  },
  {
   "cell_type": "code",
   "execution_count": null,
   "metadata": {},
   "outputs": [],
   "source": [
    "network_history.best_params_"
   ]
  },
  {
   "cell_type": "code",
   "execution_count": null,
   "metadata": {},
   "outputs": [],
   "source": [
    "predictions = network_history.predict(X_test_embedding)"
   ]
  },
  {
   "cell_type": "code",
   "execution_count": null,
   "metadata": {},
   "outputs": [],
   "source": [
    "cm = confusion_matrix(y_test, predictions)\n",
    "print(cm)\n",
    "plt.imshow(cm, cmap=plt.cm.Blues)"
   ]
  },
  {
   "cell_type": "code",
   "execution_count": null,
   "metadata": {},
   "outputs": [],
   "source": [
    "print(accuracy_score(y_test, predictions))"
   ]
  },
  {
   "cell_type": "markdown",
   "metadata": {},
   "source": [
    "<h2>DenseNet121</h2>"
   ]
  },
  {
   "cell_type": "code",
   "execution_count": null,
   "metadata": {},
   "outputs": [],
   "source": [
    "# preprocessing delle immagini per la VGG\n",
    "db_immagini_ds = preprocess_input_ds(db_immagini)"
   ]
  },
  {
   "cell_type": "code",
   "execution_count": null,
   "metadata": {},
   "outputs": [],
   "source": [
    "# divisione in train e test\n",
    "db_immagini_ds, y = shuffle(db_immagini_ds, y)\n",
    "X_train_ds, X_test_ds, y_train_ds, y_test_ds = train_test_split(db_immagini_ds, y, test_size=0.3)"
   ]
  },
  {
   "cell_type": "code",
   "execution_count": null,
   "metadata": {},
   "outputs": [],
   "source": [
    "X_train_ds = X_train_ds.astype('float32')/255.0\n",
    "X_test_ds = X_test_ds.astype('float32')/255.0"
   ]
  },
  {
   "cell_type": "code",
   "execution_count": null,
   "metadata": {},
   "outputs": [],
   "source": [
    "# utilizzo del modello DenseNet121 per l'estrazione delle features convoluzionali\n",
    "ds_features = DenseNet121(include_top=False, input_shape=(224, 224, 3), pooling='avg')\n",
    "\n",
    "X_train_embedding_ds = ds_features.predict(X_train_ds)\n",
    "X_test_embedding_ds = ds_features.predict(X_test_ds)"
   ]
  },
  {
   "cell_type": "markdown",
   "metadata": {},
   "source": [
    "<h4>Regressione Logistica</h4>"
   ]
  },
  {
   "cell_type": "code",
   "execution_count": null,
   "metadata": {},
   "outputs": [],
   "source": [
    "# Parametri da provare in cross validation\n",
    "param_grid= [{'solver': ['newton-cg', 'lbfgs','sag', 'saga']}]\n",
    "    \n",
    "clf_lr_ds = GridSearchCV(LogisticRegression(random_state=0), param_grid, scoring='accuracy')\n",
    "clf_lr_ds.fit(X_train_embedding_ds, y_train_ds)"
   ]
  },
  {
   "cell_type": "code",
   "execution_count": null,
   "metadata": {
    "scrolled": true
   },
   "outputs": [],
   "source": [
    "print(\"Migliore combinazione di parametri:\")\n",
    "print(\" solver: \"+str(clf_lr_ds.best_estimator_.solver))"
   ]
  },
  {
   "cell_type": "code",
   "execution_count": null,
   "metadata": {},
   "outputs": [],
   "source": [
    "clf_lr_ds_pred=clf_lr_ds.predict(X_test_embedding_ds)"
   ]
  },
  {
   "cell_type": "code",
   "execution_count": null,
   "metadata": {
    "scrolled": true
   },
   "outputs": [],
   "source": [
    "print(classification_report(y_test_ds, clf_lr_ds_pred))"
   ]
  },
  {
   "cell_type": "code",
   "execution_count": null,
   "metadata": {
    "scrolled": true
   },
   "outputs": [],
   "source": [
    "cm = confusion_matrix(y_test_ds, clf_lr_ds_pred)   \n",
    "print(cm)\n",
    "plt.imshow(cm, cmap=plt.cm.Blues)"
   ]
  },
  {
   "cell_type": "code",
   "execution_count": null,
   "metadata": {},
   "outputs": [],
   "source": [
    "print(accuracy_score(y_test_ds, clf_lr_ds_pred))"
   ]
  },
  {
   "cell_type": "code",
   "execution_count": null,
   "metadata": {},
   "outputs": [],
   "source": []
  }
 ],
 "metadata": {
  "kernelspec": {
   "display_name": "Python 3",
   "language": "python",
   "name": "python3"
  },
  "language_info": {
   "codemirror_mode": {
    "name": "ipython",
    "version": 3
   },
   "file_extension": ".py",
   "mimetype": "text/x-python",
   "name": "python",
   "nbconvert_exporter": "python",
   "pygments_lexer": "ipython3",
   "version": "3.7.1"
  }
 },
 "nbformat": 4,
 "nbformat_minor": 2
}
